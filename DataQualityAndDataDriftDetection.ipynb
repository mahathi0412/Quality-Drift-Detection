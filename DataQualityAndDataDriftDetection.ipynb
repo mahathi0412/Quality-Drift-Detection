{
 "cells": [
  {
   "cell_type": "code",
   "execution_count": 51,
   "id": "320f1fd2-f154-4468-b073-86bf11193835",
   "metadata": {},
   "outputs": [],
   "source": [
    "import pandas as pd\n",
    "import numpy as np\n",
    "from datetime import datetime, timedelta\n",
    "import random"
   ]
  },
  {
   "cell_type": "code",
   "execution_count": 54,
   "id": "85ae9de3-f4d1-4662-9cc2-73c672d719c9",
   "metadata": {},
   "outputs": [
    {
     "data": {
      "text/html": [
       "<div>\n",
       "<style scoped>\n",
       "    .dataframe tbody tr th:only-of-type {\n",
       "        vertical-align: middle;\n",
       "    }\n",
       "\n",
       "    .dataframe tbody tr th {\n",
       "        vertical-align: top;\n",
       "    }\n",
       "\n",
       "    .dataframe thead th {\n",
       "        text-align: right;\n",
       "    }\n",
       "</style>\n",
       "<table border=\"1\" class=\"dataframe\">\n",
       "  <thead>\n",
       "    <tr style=\"text-align: right;\">\n",
       "      <th></th>\n",
       "      <th>order_id</th>\n",
       "      <th>customer_id</th>\n",
       "      <th>date</th>\n",
       "      <th>revenue</th>\n",
       "      <th>product_category</th>\n",
       "    </tr>\n",
       "  </thead>\n",
       "  <tbody>\n",
       "    <tr>\n",
       "      <th>0</th>\n",
       "      <td>ORD1000</td>\n",
       "      <td>CUST154</td>\n",
       "      <td>2023-02-03</td>\n",
       "      <td>236.96</td>\n",
       "      <td>Clothing</td>\n",
       "    </tr>\n",
       "    <tr>\n",
       "      <th>1</th>\n",
       "      <td>ORD1001</td>\n",
       "      <td>CUST131</td>\n",
       "      <td>2023-01-28</td>\n",
       "      <td>811.33</td>\n",
       "      <td>Clothing</td>\n",
       "    </tr>\n",
       "    <tr>\n",
       "      <th>2</th>\n",
       "      <td>ORD1002</td>\n",
       "      <td>CUST193</td>\n",
       "      <td>2023-02-15</td>\n",
       "      <td>771.13</td>\n",
       "      <td>Clothing</td>\n",
       "    </tr>\n",
       "    <tr>\n",
       "      <th>3</th>\n",
       "      <td>ORD1003</td>\n",
       "      <td>CUST112</td>\n",
       "      <td>2023-02-12</td>\n",
       "      <td>821.46</td>\n",
       "      <td>Clothing</td>\n",
       "    </tr>\n",
       "    <tr>\n",
       "      <th>4</th>\n",
       "      <td>ORD1004</td>\n",
       "      <td>CUST113</td>\n",
       "      <td>2023-02-21</td>\n",
       "      <td>724.39</td>\n",
       "      <td>Home</td>\n",
       "    </tr>\n",
       "  </tbody>\n",
       "</table>\n",
       "</div>"
      ],
      "text/plain": [
       "  order_id customer_id       date  revenue product_category\n",
       "0  ORD1000     CUST154 2023-02-03   236.96         Clothing\n",
       "1  ORD1001     CUST131 2023-01-28   811.33         Clothing\n",
       "2  ORD1002     CUST193 2023-02-15   771.13         Clothing\n",
       "3  ORD1003     CUST112 2023-02-12   821.46         Clothing\n",
       "4  ORD1004     CUST113 2023-02-21   724.39             Home"
      ]
     },
     "execution_count": 54,
     "metadata": {},
     "output_type": "execute_result"
    }
   ],
   "source": [
    "num_records = 500\n",
    "\n",
    "# Generating the first batch (clean sales data)\n",
    "data_batch1 = {\n",
    "    'order_id': [f'ORD{1000 + i}' for i in range(num_records)],\n",
    "    'customer_id': [f'CUST{random.randint(100, 199)}' for _ in range(num_records)],\n",
    "    'date': [datetime(2023, 1, 1) + timedelta(days=random.randint(0, 60)) for _ in range(num_records)],\n",
    "    'revenue': np.round(np.random.uniform(100.0, 1000.0, num_records), 2),\n",
    "    'product_category': [random.choice(['Electronics', 'Clothing', 'Books', 'Home']) for _ in range(num_records)]\n",
    "}\n",
    "\n",
    "df_batch1 = pd.DataFrame(data_batch1)\n",
    "df_batch1.to_csv('sales_data_batch1.csv', index=False)\n",
    "\n",
    "df_batch1.head()"
   ]
  },
  {
   "cell_type": "code",
   "execution_count": 55,
   "id": "4268befe-87ae-4435-aec9-5d0e983b381e",
   "metadata": {},
   "outputs": [
    {
     "data": {
      "text/html": [
       "<div>\n",
       "<style scoped>\n",
       "    .dataframe tbody tr th:only-of-type {\n",
       "        vertical-align: middle;\n",
       "    }\n",
       "\n",
       "    .dataframe tbody tr th {\n",
       "        vertical-align: top;\n",
       "    }\n",
       "\n",
       "    .dataframe thead th {\n",
       "        text-align: right;\n",
       "    }\n",
       "</style>\n",
       "<table border=\"1\" class=\"dataframe\">\n",
       "  <thead>\n",
       "    <tr style=\"text-align: right;\">\n",
       "      <th></th>\n",
       "      <th>order_id</th>\n",
       "      <th>customer_id</th>\n",
       "      <th>date</th>\n",
       "      <th>revenue</th>\n",
       "      <th>product_category</th>\n",
       "      <th>discount</th>\n",
       "    </tr>\n",
       "  </thead>\n",
       "  <tbody>\n",
       "    <tr>\n",
       "      <th>0</th>\n",
       "      <td>ORD1000</td>\n",
       "      <td>CUST154</td>\n",
       "      <td>2023-02-03 00:00:00</td>\n",
       "      <td>1500.0</td>\n",
       "      <td>Clothing</td>\n",
       "      <td>31.23</td>\n",
       "    </tr>\n",
       "    <tr>\n",
       "      <th>1</th>\n",
       "      <td>ORD1001</td>\n",
       "      <td>CUST131</td>\n",
       "      <td>2023-01-28 00:00:00</td>\n",
       "      <td>1500.0</td>\n",
       "      <td>Clothing</td>\n",
       "      <td>7.19</td>\n",
       "    </tr>\n",
       "    <tr>\n",
       "      <th>2</th>\n",
       "      <td>ORD1002</td>\n",
       "      <td>CUST193</td>\n",
       "      <td>2023-02-15 00:00:00</td>\n",
       "      <td>1500.0</td>\n",
       "      <td>Clothing</td>\n",
       "      <td>12.06</td>\n",
       "    </tr>\n",
       "    <tr>\n",
       "      <th>3</th>\n",
       "      <td>ORD1003</td>\n",
       "      <td>CUST112</td>\n",
       "      <td>2023-02-12 00:00:00</td>\n",
       "      <td>1500.0</td>\n",
       "      <td>Clothing</td>\n",
       "      <td>49.06</td>\n",
       "    </tr>\n",
       "    <tr>\n",
       "      <th>4</th>\n",
       "      <td>ORD1004</td>\n",
       "      <td>CUST113</td>\n",
       "      <td>2023-02-21 00:00:00</td>\n",
       "      <td>1500.0</td>\n",
       "      <td>Home</td>\n",
       "      <td>14.51</td>\n",
       "    </tr>\n",
       "  </tbody>\n",
       "</table>\n",
       "</div>"
      ],
      "text/plain": [
       "  order_id customer_id                 date  revenue product_category  \\\n",
       "0  ORD1000     CUST154  2023-02-03 00:00:00   1500.0         Clothing   \n",
       "1  ORD1001     CUST131  2023-01-28 00:00:00   1500.0         Clothing   \n",
       "2  ORD1002     CUST193  2023-02-15 00:00:00   1500.0         Clothing   \n",
       "3  ORD1003     CUST112  2023-02-12 00:00:00   1500.0         Clothing   \n",
       "4  ORD1004     CUST113  2023-02-21 00:00:00   1500.0             Home   \n",
       "\n",
       "   discount  \n",
       "0     31.23  \n",
       "1      7.19  \n",
       "2     12.06  \n",
       "3     49.06  \n",
       "4     14.51  "
      ]
     },
     "execution_count": 55,
     "metadata": {},
     "output_type": "execute_result"
    }
   ],
   "source": [
    "df_batch2 = df_batch1.copy()\n",
    "\n",
    "df_batch2['date'] = df_batch2['date'].apply(lambda x: x.strftime('%Y-%m-%d %H:%M:%S'))\n",
    "df_batch2['discount'] = np.round(np.random.uniform(5.0, 50.0, num_records), 2)\n",
    "df_batch2['revenue'] = np.round(np.random.uniform(1500.0, 1500.0, num_records), 2)\n",
    "df_batch2.loc[df_batch2.sample(frac=0.1).index, 'product_category'] = None\n",
    "\n",
    "df_batch2.to_csv('sales_data_batch2.csv', index=False)\n",
    "\n",
    "df_batch2.head()"
   ]
  },
  {
   "cell_type": "code",
   "execution_count": 13,
   "id": "1e1f2b33-99b3-49a1-91db-3722458012ca",
   "metadata": {},
   "outputs": [
    {
     "name": "stdout",
     "output_type": "stream",
     "text": [
      "Requirement already satisfied: pyspark in c:\\users\\mahat\\appdata\\local\\programs\\python\\python313\\lib\\site-packages (3.5.5)\n",
      "Requirement already satisfied: py4j==0.10.9.7 in c:\\users\\mahat\\appdata\\local\\programs\\python\\python313\\lib\\site-packages (from pyspark) (0.10.9.7)\n",
      "Note: you may need to restart the kernel to use updated packages.\n"
     ]
    }
   ],
   "source": [
    "pip install pyspark"
   ]
  },
  {
   "cell_type": "code",
   "execution_count": 56,
   "id": "8cfe0a7e-5594-48a1-9a3e-2ca923860aea",
   "metadata": {},
   "outputs": [],
   "source": [
    "from pyspark.sql import SparkSession\n",
    "\n",
    "spark = SparkSession.builder \\\n",
    "    .appName(\"DataQualityAndDriftDetection\") \\\n",
    "    .getOrCreate()"
   ]
  },
  {
   "cell_type": "code",
   "execution_count": 57,
   "id": "cc6d98d5-97c1-40b1-a232-5d648705e779",
   "metadata": {},
   "outputs": [],
   "source": [
    "df_batch1 = spark.read.csv('sales_data_batch1.csv', header=True, inferSchema=True)\n",
    "\n",
    "df_batch2 = spark.read.csv('sales_data_batch2.csv', header=True, inferSchema=True)"
   ]
  },
  {
   "cell_type": "code",
   "execution_count": 58,
   "id": "0360262d-2e81-471b-afed-52b2f5bbf270",
   "metadata": {},
   "outputs": [
    {
     "name": "stdout",
     "output_type": "stream",
     "text": [
      "Sample from Batch 1:\n",
      "+--------+-----------+----------+-------+----------------+\n",
      "|order_id|customer_id|      date|revenue|product_category|\n",
      "+--------+-----------+----------+-------+----------------+\n",
      "| ORD1000|    CUST154|2023-02-03| 236.96|        Clothing|\n",
      "| ORD1001|    CUST131|2023-01-28| 811.33|        Clothing|\n",
      "| ORD1002|    CUST193|2023-02-15| 771.13|        Clothing|\n",
      "| ORD1003|    CUST112|2023-02-12| 821.46|        Clothing|\n",
      "| ORD1004|    CUST113|2023-02-21| 724.39|            Home|\n",
      "+--------+-----------+----------+-------+----------------+\n",
      "only showing top 5 rows\n",
      "\n",
      "Sample from Batch 2:\n",
      "+--------+-----------+-------------------+-------+----------------+--------+\n",
      "|order_id|customer_id|               date|revenue|product_category|discount|\n",
      "+--------+-----------+-------------------+-------+----------------+--------+\n",
      "| ORD1000|    CUST154|2023-02-03 00:00:00| 1500.0|        Clothing|   31.23|\n",
      "| ORD1001|    CUST131|2023-01-28 00:00:00| 1500.0|        Clothing|    7.19|\n",
      "| ORD1002|    CUST193|2023-02-15 00:00:00| 1500.0|        Clothing|   12.06|\n",
      "| ORD1003|    CUST112|2023-02-12 00:00:00| 1500.0|        Clothing|   49.06|\n",
      "| ORD1004|    CUST113|2023-02-21 00:00:00| 1500.0|            Home|   14.51|\n",
      "+--------+-----------+-------------------+-------+----------------+--------+\n",
      "only showing top 5 rows\n",
      "\n"
     ]
    }
   ],
   "source": [
    "print(\"Sample from Batch 1:\")\n",
    "df_batch1.show(5)\n",
    "\n",
    "print(\"Sample from Batch 2:\")\n",
    "df_batch2.show(5)"
   ]
  },
  {
   "cell_type": "code",
   "execution_count": 59,
   "id": "edfdd6f2-f65b-4941-972c-33cca5931534",
   "metadata": {},
   "outputs": [
    {
     "name": "stdout",
     "output_type": "stream",
     "text": [
      "Schema of Batch 1:\n",
      "root\n",
      " |-- order_id: string (nullable = true)\n",
      " |-- customer_id: string (nullable = true)\n",
      " |-- date: date (nullable = true)\n",
      " |-- revenue: double (nullable = true)\n",
      " |-- product_category: string (nullable = true)\n",
      "\n",
      "\n",
      "Schema of Batch 2:\n",
      "root\n",
      " |-- order_id: string (nullable = true)\n",
      " |-- customer_id: string (nullable = true)\n",
      " |-- date: timestamp (nullable = true)\n",
      " |-- revenue: double (nullable = true)\n",
      " |-- product_category: string (nullable = true)\n",
      " |-- discount: double (nullable = true)\n",
      "\n"
     ]
    }
   ],
   "source": [
    "print(\"Schema of Batch 1:\")\n",
    "df_batch1.printSchema()\n",
    "\n",
    "print(\"\\nSchema of Batch 2:\")\n",
    "df_batch2.printSchema()"
   ]
  },
  {
   "cell_type": "code",
   "execution_count": 60,
   "id": "4f05de60-c365-42e5-add4-28c8d597b75b",
   "metadata": {},
   "outputs": [
    {
     "name": "stdout",
     "output_type": "stream",
     "text": [
      "New Columns Detected: {('discount', 'DoubleType()'), ('date', 'TimestampType()')}\n",
      "Missing Columns Detected: {('date', 'DateType()')}\n",
      "Columns with Type Mismatches: [('date', 'DateType()', 'TimestampType()')]\n"
     ]
    }
   ],
   "source": [
    "# Extract (column_name, data_type) for each batch\n",
    "schema_batch1 = set((field.name, str(field.dataType)) for field in df_batch1.schema.fields)\n",
    "schema_batch2 = set((field.name, str(field.dataType)) for field in df_batch2.schema.fields)\n",
    "\n",
    "# Find columns that are different\n",
    "new_columns = schema_batch2 - schema_batch1\n",
    "\n",
    "missing_columns = schema_batch1 - schema_batch2\n",
    "\n",
    "# Find columns with same name but different types\n",
    "common_columns = set(field.name for field in df_batch1.schema.fields).intersection(\n",
    "    set(field.name for field in df_batch2.schema.fields)\n",
    ")\n",
    "\n",
    "type_mismatches = []\n",
    "for col in common_columns:\n",
    "    type1 = dict((field.name, str(field.dataType)) for field in df_batch1.schema.fields).get(col)\n",
    "    type2 = dict((field.name, str(field.dataType)) for field in df_batch2.schema.fields).get(col)\n",
    "    if type1 != type2:\n",
    "        type_mismatches.append((col, type1, type2))\n",
    "\n",
    "print(\"New Columns Detected:\", new_columns)\n",
    "print(\"Missing Columns Detected:\", missing_columns)\n",
    "print(\"Columns with Type Mismatches:\", type_mismatches)"
   ]
  },
  {
   "cell_type": "code",
   "execution_count": 61,
   "id": "2bdb8859-9f53-4e93-8ecc-90b8b2f322c9",
   "metadata": {},
   "outputs": [
    {
     "name": "stdout",
     "output_type": "stream",
     "text": [
      "\n",
      "Column: revenue\n",
      "Batch 1 → Mean: 531.12, StdDev: 256.56\n",
      "Batch 2 → Mean: 1500.00, StdDev: 0.00\n"
     ]
    }
   ],
   "source": [
    "from pyspark.sql.functions import mean, stddev, min, max\n",
    "\n",
    "numeric_columns = ['revenue']\n",
    "\n",
    "def get_summary(df, columns):\n",
    "    stats = {}\n",
    "    for col_name in columns:\n",
    "        summary = df.select(\n",
    "            mean(col_name).alias('mean'),\n",
    "            stddev(col_name).alias('stddev'),\n",
    "            min(col_name).alias('min'),\n",
    "            max(col_name).alias('max')\n",
    "        ).collect()[0]\n",
    "        \n",
    "        stats[col_name] = {\n",
    "            'mean': summary['mean'],\n",
    "            'stddev': summary['stddev'],\n",
    "            'min': summary['min'],\n",
    "            'max': summary['max']\n",
    "        }\n",
    "    return stats\n",
    "\n",
    "stats_batch1 = get_summary(df_batch1, numeric_columns)\n",
    "stats_batch2 = get_summary(df_batch2, numeric_columns)\n",
    "for col in numeric_columns:\n",
    "    print(f\"\\nColumn: {col}\")\n",
    "    print(f\"Batch 1 → Mean: {stats_batch1[col]['mean']:.2f}, StdDev: {stats_batch1[col]['stddev']:.2f}\")\n",
    "    print(f\"Batch 2 → Mean: {stats_batch2[col]['mean']:.2f}, StdDev: {stats_batch2[col]['stddev']:.2f}\")"
   ]
  },
  {
   "cell_type": "code",
   "execution_count": 62,
   "id": "e5033d55-15b3-4c6d-95dc-ad0cd0f94c7f",
   "metadata": {},
   "outputs": [
    {
     "name": "stdout",
     "output_type": "stream",
     "text": [
      "\n",
      "Checking Drift for Column: revenue\n",
      "Significant Mean Drift Detected in 'revenue'\n",
      "Significant StdDev Drift Detected in 'revenue'\n"
     ]
    }
   ],
   "source": [
    "def detect_significant_drift(value1, value2, threshold=0.2):\n",
    "    if value1 == 0:\n",
    "        return False\n",
    "    relative_change = abs(value2 - value1) / abs(value1)\n",
    "    return relative_change > threshold\n",
    "\n",
    "for col in numeric_columns:\n",
    "    print(f\"\\nChecking Drift for Column: {col}\")\n",
    "    \n",
    "    mean_drift = detect_significant_drift(stats_batch1[col]['mean'], stats_batch2[col]['mean'])\n",
    "    stddev_drift = detect_significant_drift(stats_batch1[col]['stddev'], stats_batch2[col]['stddev'])\n",
    "\n",
    "    if mean_drift:\n",
    "        print(f\"Significant Mean Drift Detected in '{col}'\")\n",
    "    else:\n",
    "        print(f\"No Significant Mean Drift in '{col}'\")\n",
    "\n",
    "    if stddev_drift:\n",
    "        print(f\"Significant StdDev Drift Detected in '{col}'\")\n",
    "    else:\n",
    "        print(f\"No Significant StdDev Drift in '{col}'\")"
   ]
  },
  {
   "cell_type": "code",
   "execution_count": 63,
   "id": "343be3a1-cef5-49d7-8d0c-5739dd6069aa",
   "metadata": {},
   "outputs": [
    {
     "name": "stdout",
     "output_type": "stream",
     "text": [
      "\n",
      "Column: revenue\n",
      "Null Percentage: 0.00%\n",
      "Null Percentage Within Acceptable Limits for 'revenue'\n",
      "\n",
      "Column: product_category\n",
      "Null Percentage: 10.00%\n",
      "High Null Percentage Detected in 'product_category'\n",
      "\n",
      "Column: discount\n",
      "Null Percentage: 0.00%\n",
      "Null Percentage Within Acceptable Limits for 'discount'\n"
     ]
    }
   ],
   "source": [
    "from pyspark.sql.functions import col\n",
    "\n",
    "def get_null_percentage(df, column_name):\n",
    "    total_rows = df.count()\n",
    "    null_rows = df.filter(col(column_name).isNull()).count()\n",
    "    if total_rows == 0:\n",
    "        return 0\n",
    "    return (null_rows / total_rows) * 100\n",
    "    \n",
    "columns_to_check_nulls = ['revenue', 'product_category', 'discount']  # 'discount' is only in batch2\n",
    "null_threshold = 5.0  # 5%\n",
    "null_report = []\n",
    "\n",
    "for col_name in columns_to_check_nulls:\n",
    "    if col_name in df_batch2.columns: \n",
    "        null_percent = get_null_percentage(df_batch2, col_name)\n",
    "        print(f\"\\nColumn: {col_name}\")\n",
    "        print(f\"Null Percentage: {null_percent:.2f}%\")\n",
    "        if null_percent > null_threshold:\n",
    "            print(f\"High Null Percentage Detected in '{col_name}'\")\n",
    "        else:\n",
    "            print(f\"Null Percentage Within Acceptable Limits for '{col_name}'\")\n",
    "        null_report.append({'Column': col_name, 'Null_Percentage': null_percent})"
   ]
  },
  {
   "cell_type": "code",
   "execution_count": 66,
   "id": "03b66a5d-0270-4ce1-a890-1aa59ccc9271",
   "metadata": {},
   "outputs": [
    {
     "name": "stdout",
     "output_type": "stream",
     "text": [
      "Null Value Report saved to 'reports/null_value_report.csv'\n"
     ]
    }
   ],
   "source": [
    "df_null_report = pd.DataFrame(null_report)\n",
    "df_null_report.to_csv('reports/null_value_report.csv', index=False)\n",
    "\n",
    "print(\"Null Value Report saved to 'reports/null_value_report.csv'\")"
   ]
  },
  {
   "cell_type": "code",
   "execution_count": 67,
   "id": "fae41e4e-7243-488b-9f99-ffff3714269c",
   "metadata": {},
   "outputs": [
    {
     "name": "stdout",
     "output_type": "stream",
     "text": [
      "Schema Drift Report saved to reports/schema_drift_report.csv\n"
     ]
    }
   ],
   "source": [
    "import os\n",
    "import pandas as pd\n",
    "\n",
    "if not os.path.exists('reports'):\n",
    "    os.makedirs('reports')\n",
    "schema_drift_data = []\n",
    "for col, dtype in new_columns:\n",
    "    schema_drift_data.append({'Drift_Type': 'New Column', 'Column': col, 'Details': dtype})\n",
    "for col, dtype in missing_columns:\n",
    "    schema_drift_data.append({'Drift_Type': 'Missing Column', 'Column': col, 'Details': dtype})\n",
    "for col, type1, type2 in type_mismatches:\n",
    "    schema_drift_data.append({'Drift_Type': 'Type Mismatch', 'Column': col, 'Details': f'{type1} → {type2}'})\n",
    "df_schema_drift = pd.DataFrame(schema_drift_data)\n",
    "\n",
    "schema_drift_report_path = 'reports/schema_drift_report.csv'\n",
    "df_schema_drift.to_csv(schema_drift_report_path, index=False)\n",
    "\n",
    "print(f\"Schema Drift Report saved to {schema_drift_report_path}\")"
   ]
  },
  {
   "cell_type": "code",
   "execution_count": 68,
   "id": "3da9a742-298b-4a6a-a63c-04cbf6d0e1b6",
   "metadata": {},
   "outputs": [
    {
     "name": "stdout",
     "output_type": "stream",
     "text": [
      "Value Drift Report saved to reports/value_drift_report.csv\n"
     ]
    }
   ],
   "source": [
    "value_drift_data = []\n",
    "\n",
    "for col in numeric_columns:\n",
    "    value_drift_data.append({\n",
    "        'Column': col,\n",
    "        'Batch1_Mean': stats_batch1[col]['mean'],\n",
    "        'Batch1_StdDev': stats_batch1[col]['stddev'],\n",
    "        'Batch2_Mean': stats_batch2[col]['mean'],\n",
    "        'Batch2_StdDev': stats_batch2[col]['stddev']\n",
    "    })\n",
    "\n",
    "df_value_drift = pd.DataFrame(value_drift_data)\n",
    "\n",
    "value_drift_report_path = 'reports/value_drift_report.csv'\n",
    "df_value_drift.to_csv(value_drift_report_path, index=False)\n",
    "\n",
    "print(f\"Value Drift Report saved to {value_drift_report_path}\")"
   ]
  },
  {
   "cell_type": "code",
   "execution_count": 69,
   "id": "522f8418-ab28-4472-8157-e6f9206befbf",
   "metadata": {},
   "outputs": [
    {
     "data": {
      "image/png": "[encoded data removed]",
      "text/plain": [
       "<Figure size 1000x600 with 1 Axes>"
      ]
     },
     "metadata": {},
     "output_type": "display_data"
    }
   ],
   "source": [
    "import matplotlib.pyplot as plt\n",
    "\n",
    "df_batch1_pd = pd.read_csv('sales_data_batch1.csv')\n",
    "df_batch2_pd = pd.read_csv('sales_data_batch2.csv')\n",
    "\n",
    "plt.figure(figsize=(10,6))\n",
    "plt.hist(df_batch1_pd['revenue'], bins=30, alpha=0.6, label='Batch 1 (Baseline)')\n",
    "plt.hist(df_batch2_pd['revenue'], bins=30, alpha=0.6, label='Batch 2 (New Data)')\n",
    "plt.title('Revenue Distribution Comparison')\n",
    "plt.xlabel('Revenue')\n",
    "plt.ylabel('Frequency')\n",
    "plt.legend()\n",
    "plt.grid(True)\n",
    "plt.show()"
   ]
  },
  {
   "cell_type": "code",
   "execution_count": 70,
   "id": "c50fcd9c-b89f-483c-9cef-f535401d6357",
   "metadata": {
    "scrolled": true
   },
   "outputs": [
    {
     "data": {
      "image/png": "[encoded data removed]",
      "text/plain": [
       "<Figure size 800x500 with 1 Axes>"
      ]
     },
     "metadata": {},
     "output_type": "display_data"
    }
   ],
   "source": [
    "# Prepare data for plotting\n",
    "metrics = ['Mean', 'Standard Deviation']\n",
    "batch1_values = [stats_batch1['revenue']['mean'], stats_batch1['revenue']['stddev']]\n",
    "batch2_values = [stats_batch2['revenue']['mean'], stats_batch2['revenue']['stddev']]\n",
    "\n",
    "x = np.arange(len(metrics))  # the label locations\n",
    "width = 0.35  # the width of the bars\n",
    "\n",
    "# Plot\n",
    "fig, ax = plt.subplots(figsize=(8,5))\n",
    "rects1 = ax.bar(x - width/2, batch1_values, width, label='Batch 1')\n",
    "rects2 = ax.bar(x + width/2, batch2_values, width, label='Batch 2')\n",
    "\n",
    "# Labels\n",
    "ax.set_ylabel('Values')\n",
    "ax.set_title('Revenue Metrics Comparison')\n",
    "ax.set_xticks(x)\n",
    "ax.set_xticklabels(metrics)\n",
    "ax.legend()\n",
    "\n",
    "plt.grid(True)\n",
    "plt.show()"
   ]
  },
  {
   "cell_type": "code",
   "execution_count": 71,
   "id": "ce1a8f2f-8b0f-4f1c-be9f-37ef35737427",
   "metadata": {},
   "outputs": [
    {
     "name": "stdout",
     "output_type": "stream",
     "text": [
      "Master Drift Report saved to 'reports/master_drift_report.txt'\n"
     ]
    }
   ],
   "source": [
    "schema_drift_df = pd.read_csv('reports/schema_drift_report.csv')\n",
    "value_drift_df = pd.read_csv('reports/value_drift_report.csv')\n",
    "null_value_df = pd.read_csv('reports/null_value_report.csv')\n",
    "\n",
    "master_report_content = []\n",
    "\n",
    "# Schema Drift\n",
    "master_report_content.append(\"=== SCHEMA DRIFT REPORT ===\\n\")\n",
    "if not schema_drift_df.empty:\n",
    "    for idx, row in schema_drift_df.iterrows():\n",
    "        master_report_content.append(f\"- [{row['Drift_Type']}] Column: {row['Column']} | Details: {row['Details']}\")\n",
    "else:\n",
    "    master_report_content.append(\"No schema drift detected.\\n\")\n",
    "\n",
    "# Value Drift\n",
    "master_report_content.append(\"\\n\\n=== VALUE DRIFT REPORT ===\\n\")\n",
    "for idx, row in value_drift_df.iterrows():\n",
    "    batch1_mean = row['Batch1_Mean']\n",
    "    batch2_mean = row['Batch2_Mean']\n",
    "    batch1_std = row['Batch1_StdDev']\n",
    "    batch2_std = row['Batch2_StdDev']\n",
    "    \n",
    "    master_report_content.append(\n",
    "        f\"- Column: {row['Column']} | Mean (Batch1): {batch1_mean:.2f} → Mean (Batch2): {batch2_mean:.2f} | \"\n",
    "        f\"StdDev (Batch1): {batch1_std:.2f} → StdDev (Batch2): {batch2_std:.2f}\"\n",
    "    )\n",
    "\n",
    "# Null Value Drift\n",
    "master_report_content.append(\"\\n\\n=== NULL VALUE REPORT ===\\n\")\n",
    "for idx, row in null_value_df.iterrows():\n",
    "    master_report_content.append(f\"- Column: {row['Column']} | Null Percentage: {row['Null_Percentage']:.2f}%\")\n",
    "\n",
    "with open('reports/master_drift_report.txt', 'w', encoding='utf-8') as f:\n",
    "    for line in master_report_content:\n",
    "        f.write(line + \"\\n\")\n",
    "\n",
    "print(\"Master Drift Report saved to 'reports/master_drift_report.txt'\")"
   ]
  }
 ],
 "metadata": {
  "kernelspec": {
   "display_name": "Python 3 (ipykernel)",
   "language": "python",
   "name": "python3"
  },
  "language_info": {
   "codemirror_mode": {
    "name": "ipython",
    "version": 3
   },
   "file_extension": ".py",
   "mimetype": "text/x-python",
   "name": "python",
   "nbconvert_exporter": "python",
   "pygments_lexer": "ipython3",
   "version": "3.13.2"
  }
 },
 "nbformat": 4,
 "nbformat_minor": 5
}
